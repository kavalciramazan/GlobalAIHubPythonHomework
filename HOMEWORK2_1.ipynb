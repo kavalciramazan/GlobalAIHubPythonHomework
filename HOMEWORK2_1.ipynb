{
 "cells": [
  {
   "cell_type": "code",
   "execution_count": 16,
   "metadata": {},
   "outputs": [
    {
     "name": "stdout",
     "output_type": "stream",
     "text": [
      "Please enter your name:r\n",
      "Please enter your Surname:k\n",
      "Please enter your age:15\n",
      "Please enter birth date :1999\n",
      "r\n",
      "k\n",
      "15\n",
      "1999\n",
      "You can not go out because it is dangerous\n"
     ]
    }
   ],
   "source": [
    "x1=input(\"Please enter your name:\")\n",
    "x2=input(\"Please enter your Surname:\")\n",
    "x3=int(input(\"Please enter your age:\"))\n",
    "x4=int(input(\"Please enter birth date :\"))\n",
    "\n",
    "mylist=list([x1,x2,x3,x4])\n",
    "for i in mylist:\n",
    "    print(i)\n",
    "if mylist[2]<18:\n",
    "    print(\"You can not go out because it is dangerous\")\n",
    "else:\n",
    "    print(\"You can  go out to street\") \n",
    "\n",
    "    "
   ]
  },
  {
   "cell_type": "code",
   "execution_count": null,
   "metadata": {},
   "outputs": [],
   "source": []
  }
 ],
 "metadata": {
  "kernelspec": {
   "display_name": "Python 3",
   "language": "python",
   "name": "python3"
  },
  "language_info": {
   "codemirror_mode": {
    "name": "ipython",
    "version": 3
   },
   "file_extension": ".py",
   "mimetype": "text/x-python",
   "name": "python",
   "nbconvert_exporter": "python",
   "pygments_lexer": "ipython3",
   "version": "3.7.6"
  }
 },
 "nbformat": 4,
 "nbformat_minor": 4
}
