{
 "cells": [
  {
   "cell_type": "code",
   "execution_count": null,
   "metadata": {},
   "outputs": [],
   "source": [
    "import random\n",
    "user=input(\"Please enter your name:\")\n",
    "print(\"Welcome\",user)\n",
    "\n",
    "words = [\"türkiye\" , \"ispanya\" , \"almanya\" , \"fransa\" , \"isveç\" , \"isviçre\" , \"brezilya\"]\n",
    "word = random.choice(words) \n",
    "guess_number = 5\n",
    "letters = []\n",
    "a = len(letters)\n",
    "b = list('_' * a)\n",
    "print(' '.join(b), end='\\n')\n",
    "\n",
    "while guess_number > 0:\n",
    "    c = input(\"Please guess one letter : \")\n",
    "    if y in letters:\n",
    "        print(\"Same letter has been guessed before...\")\n",
    "        continue\n",
    "\n",
    "    elif len(c) > 1:\n",
    "        print(\"Please enter just a letter\")\n",
    "        continue\n",
    "\n",
    "    elif c not in word:\n",
    "        guess_number -= 1\n",
    "        print(f'Wrong!.You have {guess_number} last guess.')\n",
    "\n",
    "    else:\n",
    "        for i in range(len(word)):\n",
    "            if c == word[i]:\n",
    "                print(\"Corret!\")\n",
    "                b[i] = c\n",
    "                letters.append(c)\n",
    "        print(' '.join(b), end='\\n')\n",
    "\n",
    "    answer = input(\"Would you like to guess the word? ['y' veya 'n'] : \")\n",
    "\n",
    "    if answer == \"y\":\n",
    "        guess = input(\"You can guess the word : \")\n",
    "        if guess == word:\n",
    "            print(\"You are correct...\")\n",
    "            break\n",
    "        else:\n",
    "            guess_number -= 1\n",
    "            print(\"Wrong guess. You have {} last guess right.\".format(guess_number))\n",
    "\n",
    "\n",
    "    if guess_number == 0:\n",
    "        print(\"It is finished . You lost!\")\n",
    "        break"
   ]
  }
 ],
 "metadata": {
  "kernelspec": {
   "display_name": "Python 3",
   "language": "python",
   "name": "python3"
  },
  "language_info": {
   "codemirror_mode": {
    "name": "ipython",
    "version": 3
   },
   "file_extension": ".py",
   "mimetype": "text/x-python",
   "name": "python",
   "nbconvert_exporter": "python",
   "pygments_lexer": "ipython3",
   "version": "3.8.3"
  }
 },
 "nbformat": 4,
 "nbformat_minor": 4
}
