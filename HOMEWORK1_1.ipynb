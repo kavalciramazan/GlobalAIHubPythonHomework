{
 "cells": [
  {
   "cell_type": "code",
   "execution_count": 2,
   "metadata": {},
   "outputs": [
    {
     "name": "stdout",
     "output_type": "stream",
     "text": [
      "lütfen Adınızı giriniz:Ramazan\n",
      "lütfen Soyadınızı giriniz:KAVALCI\n",
      "lütfen Yaşınızı giriniz:32\n",
      "lütfen Kilonuzu giriniz:78.1\n",
      "lütfen Boyunuzu giriniz:174\n",
      "Birinci veri: Ramazan\n",
      "Birinci veri tipi: <class 'str'>\n",
      "İkinici veri: KAVALCI\n",
      "İkinici veri tipi: <class 'str'>\n",
      "Üçüncü veri: 32\n",
      "Üçüncü veri tipi: <class 'int'>\n",
      "Dördüncü veri:78.1\n",
      "Dördüncü veri tipi: <class 'float'>\n",
      "Beşinci veri:174.0\n",
      "Beşinci veri tipi: <class 'float'>\n"
     ]
    }
   ],
   "source": [
    "x1=input(\"lütfen Adınızı giriniz:\")\n",
    "x2=input(\"lütfen Soyadınızı giriniz:\")\n",
    "x3=int(input(\"lütfen Yaşınızı giriniz:\"))\n",
    "x4=float(input(\"lütfen Kilonuzu giriniz:\"))\n",
    "x5=float(input(\"lütfen Boyunuzu giriniz:\"))\n",
    "print(f'Birinci veri: {x1}')\n",
    "print(\"Birinci veri tipi:\",type(x1))\n",
    "print(f'İkinici veri: {x2}')\n",
    "print(\"İkinici veri tipi:\",type(x2))\n",
    "print(f'Üçüncü veri: {x3}')\n",
    "print(\"Üçüncü veri tipi:\",type(x3))\n",
    "print(\"Dördüncü veri:{}\".format(x4))\n",
    "print(\"Dördüncü veri tipi:\",type(x4))\n",
    "print(\"Beşinci veri:{}\".format(x5))\n",
    "print(\"Beşinci veri tipi:\",type(x5))"
   ]
  },
  {
   "cell_type": "code",
   "execution_count": null,
   "metadata": {},
   "outputs": [],
   "source": []
  }
 ],
 "metadata": {
  "kernelspec": {
   "display_name": "Python 3",
   "language": "python",
   "name": "python3"
  },
  "language_info": {
   "codemirror_mode": {
    "name": "ipython",
    "version": 3
   },
   "file_extension": ".py",
   "mimetype": "text/x-python",
   "name": "python",
   "nbconvert_exporter": "python",
   "pygments_lexer": "ipython3",
   "version": "3.7.6"
  }
 },
 "nbformat": 4,
 "nbformat_minor": 4
}
